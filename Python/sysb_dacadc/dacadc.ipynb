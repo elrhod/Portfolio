{
 "cells": [
  {
   "cell_type": "code",
   "execution_count": 1,
   "id": "5f213c27-6800-4629-9c41-8924437ad706",
   "metadata": {},
   "outputs": [],
   "source": [
    "import sys\n",
    "import numpy as np\n",
    "import matplotlib.pyplot as plt\n",
    "from sysb_dacadc import Sysbdacadc\n",
    "import serial"
   ]
  },
  {
   "cell_type": "markdown",
   "id": "9b155e48-9714-4cb1-998e-dea3ff3f8666",
   "metadata": {},
   "source": [
    "# UART Handles"
   ]
  },
  {
   "cell_type": "code",
   "execution_count": 43,
   "id": "8db2f394-6b2f-412a-84bf-e8dba57a4a21",
   "metadata": {},
   "outputs": [
    {
     "name": "stdout",
     "output_type": "stream",
     "text": [
      "['/dev/ttyUSB0']\n"
     ]
    }
   ],
   "source": [
    "import glob\n",
    "ports = glob.glob('/dev/ttyUSB*')\n",
    "print(ports)"
   ]
  },
  {
   "cell_type": "code",
   "execution_count": 44,
   "id": "61456bbb-dd07-4b60-8d6a-6ab5e8d4ff96",
   "metadata": {},
   "outputs": [],
   "source": [
    "illus = Sysbdacadc('/dev/ttyUSB0')"
   ]
  },
  {
   "cell_type": "markdown",
   "id": "9e07b8a7-3cf5-43d1-b8d4-3ad4623369e4",
   "metadata": {},
   "source": [
    "# Write DAC"
   ]
  },
  {
   "cell_type": "code",
   "execution_count": 65,
   "id": "49072e6d-087e-4bd7-8e4c-c4002184c196",
   "metadata": {},
   "outputs": [],
   "source": [
    "illus.write_cfg_dac('0', 5)"
   ]
  },
  {
   "cell_type": "code",
   "execution_count": 46,
   "id": "505d509d-69ee-48ad-be04-b704a784e31a",
   "metadata": {},
   "outputs": [],
   "source": [
    "illus.write_cfg_dac('1', 0)"
   ]
  },
  {
   "cell_type": "code",
   "execution_count": 47,
   "id": "43751004-90af-433f-93fc-d07b521425ad",
   "metadata": {},
   "outputs": [],
   "source": [
    "illus.write_cfg_dac('2', 0)"
   ]
  },
  {
   "cell_type": "code",
   "execution_count": 55,
   "id": "c64f26b3-7301-40f3-a32c-a04fb591f827",
   "metadata": {},
   "outputs": [],
   "source": [
    "illus.write_cfg_dac('3', 5)"
   ]
  },
  {
   "cell_type": "code",
   "execution_count": 18,
   "id": "dfd9c4fa-59b0-4022-b649-0780d6794351",
   "metadata": {},
   "outputs": [],
   "source": [
    "illus.write_cfg_dac('2', 0.7)"
   ]
  },
  {
   "cell_type": "markdown",
   "id": "f07f982e-e39c-4af7-9f55-4c1a30410682",
   "metadata": {},
   "source": [
    "# Read ADC"
   ]
  },
  {
   "cell_type": "code",
   "execution_count": 56,
   "id": "7cdeca47-c2e5-48e6-bfc6-293ee2a4b471",
   "metadata": {},
   "outputs": [
    {
     "data": {
      "text/plain": [
       "85"
      ]
     },
     "execution_count": 56,
     "metadata": {},
     "output_type": "execute_result"
    }
   ],
   "source": [
    "illus.read_ss_adc('0')"
   ]
  },
  {
   "cell_type": "code",
   "execution_count": 57,
   "id": "37b90261-0b0d-403a-89b1-8485c7edfc7b",
   "metadata": {},
   "outputs": [
    {
     "data": {
      "text/plain": [
       "105"
      ]
     },
     "execution_count": 57,
     "metadata": {},
     "output_type": "execute_result"
    }
   ],
   "source": [
    "illus.read_ss_adc('1')"
   ]
  },
  {
   "cell_type": "code",
   "execution_count": 62,
   "id": "025bc028-5982-4a05-9930-d59a1bb0e7c0",
   "metadata": {},
   "outputs": [
    {
     "data": {
      "text/plain": [
       "8598"
      ]
     },
     "execution_count": 62,
     "metadata": {},
     "output_type": "execute_result"
    }
   ],
   "source": [
    "illus.read_ss_adc('2')"
   ]
  },
  {
   "cell_type": "code",
   "execution_count": 59,
   "id": "19a55ab0-7b0f-4eb5-b741-c4e0d5bfeb19",
   "metadata": {},
   "outputs": [
    {
     "data": {
      "text/plain": [
       "83"
      ]
     },
     "execution_count": 59,
     "metadata": {},
     "output_type": "execute_result"
    }
   ],
   "source": [
    "illus.read_ss_adc('3')"
   ]
  },
  {
   "cell_type": "markdown",
   "id": "7535430e-1e47-4a65-bb43-dd8a828c3c39",
   "metadata": {},
   "source": [
    "# Write Sel"
   ]
  },
  {
   "cell_type": "code",
   "execution_count": 13,
   "id": "6d7ca467-5d8c-4248-9995-b8d7d6f28aea",
   "metadata": {},
   "outputs": [],
   "source": [
    "illus.write_sel('1','0')"
   ]
  },
  {
   "cell_type": "code",
   "execution_count": 11,
   "id": "243e78e9-6b90-41f0-a360-0c0ce0716324",
   "metadata": {},
   "outputs": [],
   "source": [
    "illus.write_sel('1','1')"
   ]
  },
  {
   "cell_type": "code",
   "execution_count": 14,
   "id": "9c65adca-4f30-4c6b-b468-c25b8e81f725",
   "metadata": {},
   "outputs": [],
   "source": [
    "illus.write_sel('2','0')"
   ]
  },
  {
   "cell_type": "code",
   "execution_count": 12,
   "id": "f69337ea-89f0-4b7d-80ed-008fc2dcf004",
   "metadata": {},
   "outputs": [],
   "source": [
    "illus.write_sel('2','1')"
   ]
  },
  {
   "cell_type": "code",
   "execution_count": null,
   "id": "8d358f89-7f60-41ea-b313-a47d0c8b5065",
   "metadata": {},
   "outputs": [],
   "source": []
  }
 ],
 "metadata": {
  "kernelspec": {
   "display_name": "Python 3 (ipykernel)",
   "language": "python",
   "name": "python3"
  },
  "language_info": {
   "codemirror_mode": {
    "name": "ipython",
    "version": 3
   },
   "file_extension": ".py",
   "mimetype": "text/x-python",
   "name": "python",
   "nbconvert_exporter": "python",
   "pygments_lexer": "ipython3",
   "version": "3.10.12"
  }
 },
 "nbformat": 4,
 "nbformat_minor": 5
}
